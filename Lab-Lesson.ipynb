{
 "cells": [
  {
   "cell_type": "markdown",
   "metadata": {},
   "source": [
    "# Lab Lesson\n",
    "\n",
    "## Introduction to Python Part 3\n",
    "\n",
    "**Topics**\n",
    "\n",
    "* persistence\n",
    "* files\n",
    "    * opening\n",
    "    * reading from\n",
    "    * writing to\n",
    "    * processing data from\n",
    "* lists\n",
    "    * iterating over\n",
    "    * indexing\n",
    "* list operations\n",
    "* standard list methods\n",
    "* dictionaries"
   ]
  },
  {
   "cell_type": "markdown",
   "metadata": {},
   "source": [
    "## A note on persistence\n",
    "\n",
    "All the stuff we've done before now has dealt exclusively with data in memory. But, what if we wanted to **store things**? How would we do that? "
   ]
  },
  {
   "cell_type": "markdown",
   "metadata": {},
   "source": [
    "## Files\n",
    "\n",
    "* good for storing data that needs to stay on the computer as its powered off\n",
    "* slower than memory!\n",
    "\n",
    "Opening files in Python is just as simple as knowing the name of the file."
   ]
  },
  {
   "cell_type": "code",
   "execution_count": null,
   "metadata": {},
   "outputs": [],
   "source": [
    "myfile = open(\"info.txt\")\n",
    "count = 0\n",
    "\n",
    "for line in myfile:\n",
    "    count = count + 1\n",
    "print('Line Count:', count)"
   ]
  },
  {
   "cell_type": "markdown",
   "metadata": {},
   "source": [
    "Whenever you open a file, you should always *always* **always** make sure you **close the file!**. Not closing a file has several potential side effects:\n",
    "- Every open file slows down your program. If you aren't using a file anymore, not closing it will unnecessarily slow down your program\n",
    "- Computer programs have a limited amount of memory - why use any of it on a file that's no longer needed?\n",
    "- Any changes your program makes to a file may not get saved properly if you don't explicitly close it"
   ]
  },
  {
   "cell_type": "code",
   "execution_count": null,
   "metadata": {},
   "outputs": [],
   "source": [
    "myfile.close()"
   ]
  },
  {
   "cell_type": "markdown",
   "metadata": {},
   "source": [
    "Let's see another example of reading through a file"
   ]
  },
  {
   "cell_type": "code",
   "execution_count": null,
   "metadata": {},
   "outputs": [],
   "source": [
    "mynewfile = open(\"info.txt\")\n",
    "\n",
    "for line in mynewfile:\n",
    "    print(line)\n",
    "\n",
    "mynewfile.close()"
   ]
  },
  {
   "cell_type": "markdown",
   "metadata": {},
   "source": [
    "What if I wanted to get *just* the name and age, as variables, so I can do fun things with them?"
   ]
  },
  {
   "cell_type": "code",
   "execution_count": null,
   "metadata": {},
   "outputs": [],
   "source": [
    "infofile = open(\"info.txt\")\n",
    "\n",
    "firstline = infofile.readline()\n",
    "secondline = infofile.readline()\n",
    "\n",
    "f = firstline.split()\n",
    "s = secondline.split()\n",
    "\n",
    "print(f)\n",
    "print(s)\n",
    "\n",
    "infofile.close()"
   ]
  },
  {
   "cell_type": "markdown",
   "metadata": {},
   "source": [
    "So, we just took a hard right turn into Listville.\n",
    "\n",
    "## Lists! (accidentally, but on purpose)\n",
    "\n",
    "* you've seen lists before, remember?"
   ]
  },
  {
   "cell_type": "code",
   "execution_count": null,
   "metadata": {},
   "outputs": [],
   "source": [
    "my_friends = [\"Bob\", \"Samson\", \"Tom\", \"Amanda\"]\n",
    "\n",
    "for friend in my_friends:\n",
    "    print(\"Hello,\", friend)"
   ]
  },
  {
   "cell_type": "markdown",
   "metadata": {},
   "source": [
    "List are sequences of items that we iterate through. There are a number of built-in Python functions that operate using lists.\n",
    "\n",
    "Let's say we made a new friend named Jeff! We could add him to our list of friends using the `append` method."
   ]
  },
  {
   "cell_type": "code",
   "execution_count": null,
   "metadata": {},
   "outputs": [],
   "source": [
    "my_friends.append(\"Jeff\")\n",
    "my_friends"
   ]
  },
  {
   "cell_type": "markdown",
   "metadata": {},
   "source": [
    "Things are getting a little messy, and we don't want our friends to think we like any one of them more than the others. We could avoid this drama by simply sorting the list alphabetically. Perfectly fair!"
   ]
  },
  {
   "cell_type": "code",
   "execution_count": null,
   "metadata": {},
   "outputs": [],
   "source": [
    "my_friends.sort()\n",
    "my_friends"
   ]
  },
  {
   "cell_type": "markdown",
   "metadata": {},
   "source": [
    "Now what if one of our friends changes their name? We can use the index of their name in our list to update it."
   ]
  },
  {
   "cell_type": "code",
   "execution_count": null,
   "metadata": {},
   "outputs": [],
   "source": [
    "print(my_friends[3])\n",
    "my_friends[3] = \"Susanne\"\n",
    "print(my_friends[3])"
   ]
  },
  {
   "cell_type": "markdown",
   "metadata": {},
   "source": [
    "Great! All up to date. Except... our friend Tom has become a Scientologist. As such, he is no longer allowed to associate with plebians like us. We can remove him from our list by using the `remove` method."
   ]
  },
  {
   "cell_type": "code",
   "execution_count": null,
   "metadata": {},
   "outputs": [],
   "source": [
    "my_friends.remove(\"Tom\")\n",
    "my_friends"
   ]
  },
  {
   "cell_type": "markdown",
   "metadata": {},
   "source": [
    "## Back to files\n",
    "\n",
    "So, what if we want to write something to a file?"
   ]
  },
  {
   "cell_type": "code",
   "execution_count": null,
   "metadata": {},
   "outputs": [],
   "source": [
    "testfile = open(\"test.txt\", \"w\")\n",
    "line1 = \"Here's some test data.\"\n",
    "testfile.write(line1)\n",
    "testfile.close()"
   ]
  },
  {
   "cell_type": "markdown",
   "metadata": {},
   "source": [
    "### The DIKW Pyramid\n",
    "\n",
    "![DIKW Pyramid](./DIKW_pyramid.png)\n",
    "\n",
    "Recall from lecture the DIKW pyramid, which consists of Data, Information, Knowledge, and Wisdom. Where would you consider files to fit on the DIKW pyramid? There are multiple right answers to this question, but make an argument for your opinion!\n",
    "\n",
    "Remember that:\n",
    "* **Data** is made up of symbols with little or no meaning to a recipient.\n",
    "* **Information** is a set of symbols that does have meaning or significance to a recipient.\n",
    "* **Knowledge** is the accumulation and integration of information by a recipient.\n",
    "* **Widsom** is the synthesis of knowledge & experience.\n"
   ]
  },
  {
   "cell_type": "markdown",
   "metadata": {},
   "source": [
    "## Dictionaries\n",
    "\n",
    "* key-value pairs\n",
    "* not indexable\n",
    "* access keys through square brackets\n",
    "\n",
    "Dictionaries can be created by using the `dict()` function. Dictionaries are denoted by using curly braces `{}` and they act similar to lists in many ways. Here is an example of creating a dictionary using key-value pairs:"
   ]
  },
  {
   "cell_type": "code",
   "execution_count": null,
   "metadata": {},
   "outputs": [],
   "source": [
    "counts = {'chuck': 1 , 'annie': 42, 'jan': 100}\n",
    "\n",
    "print(counts['chuck'])"
   ]
  },
  {
   "cell_type": "markdown",
   "metadata": {},
   "source": [
    "Here, our _keys_ are `chuck`, `annie`, and `jan`, and our _values_ are `1`, `42`, and `100`."
   ]
  },
  {
   "cell_type": "code",
   "execution_count": null,
   "metadata": {},
   "outputs": [],
   "source": [
    "counts = {'chuck': 1 , 'annie': 42, 'jan': 100}\n",
    "for key in counts:\n",
    "    print(key, counts[key])"
   ]
  },
  {
   "cell_type": "markdown",
   "metadata": {},
   "source": [
    "But, dictionaries also act differently from lists. For one thing, they don't have an `append` method."
   ]
  },
  {
   "cell_type": "code",
   "execution_count": null,
   "metadata": {},
   "outputs": [],
   "source": [
    "# this won't work!\n",
    "counts.append('lucy': 5)"
   ]
  },
  {
   "cell_type": "markdown",
   "metadata": {},
   "source": [
    "Instead, you can add new items to the dictionary by setting their value:"
   ]
  },
  {
   "cell_type": "code",
   "execution_count": null,
   "metadata": {},
   "outputs": [],
   "source": [
    "counts['lucy'] = 5\n",
    "\n",
    "print(counts)"
   ]
  },
  {
   "cell_type": "markdown",
   "metadata": {},
   "source": [
    "Dictionaries allow you to look up values based on the key (but not by values). Also, values can be any type, not just numbers!"
   ]
  },
  {
   "cell_type": "code",
   "execution_count": null,
   "metadata": {},
   "outputs": [],
   "source": [
    "coolfriends = {'Susanne': True, 'Bob': True, 'Tom': False}\n",
    "french = {\n",
    "    'hello': 'bonjour',\n",
    "    'your elephant is on fire': 'ton éléphant est en feu',\n",
    "    'ask the owl': 'demander à la choutte',\n",
    "}\n",
    "\n",
    "print(\"Is Tom a cool friend?\", coolfriends['Tom'])\n",
    "print(\"'Hello' in French is\", french['hello'])"
   ]
  },
  {
   "cell_type": "markdown",
   "metadata": {},
   "source": [
    "### Dictionaries on the DIKW Pyramid\n",
    "\n",
    "Where would you place dictionaries on the DIKW pyramid? Once again, there are multiple right answers to this question. "
   ]
  }
 ],
 "metadata": {
  "kernelspec": {
   "display_name": "Python 3",
   "language": "python",
   "name": "python3"
  },
  "language_info": {
   "codemirror_mode": {
    "name": "ipython",
    "version": 3
   },
   "file_extension": ".py",
   "mimetype": "text/x-python",
   "name": "python",
   "nbconvert_exporter": "python",
   "pygments_lexer": "ipython3",
   "version": "3.8.3"
  }
 },
 "nbformat": 4,
 "nbformat_minor": 4
}
