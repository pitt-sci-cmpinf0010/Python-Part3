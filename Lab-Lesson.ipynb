{
 "cells": [
  {
   "cell_type": "markdown",
   "metadata": {},
   "source": [
    "# Lab Lesson\n",
    "\n",
    "## Introduction to Python Part 3\n",
    "\n",
    "**Topics**\n",
    "\n",
    "* persistence\n",
    "* files\n",
    "    * opening\n",
    "    * reading from\n",
    "    * writing to\n",
    "    * processing data from\n",
    "* lists\n",
    "    * iterating over\n",
    "    * indexing\n",
    "* list operations\n",
    "* standard list methods\n",
    "* dictionaries\n",
    "* the `pickle` package"
   ]
  },
  {
   "cell_type": "markdown",
   "metadata": {},
   "source": [
    "## A note on persistence\n",
    "\n",
    "All the stuff we've done before now has dealt exclusively with data in memory. But, what if we wanted to **store things**? How would we do that? "
   ]
  },
  {
   "cell_type": "markdown",
   "metadata": {},
   "source": [
    "## Files\n",
    "\n",
    "* good for storing data that needs to stay on the computer as its powered off\n",
    "* slower than memory!\n",
    "\n",
    "Opening files in Python is just as simple as knowing the name of the file."
   ]
  },
  {
   "cell_type": "code",
   "execution_count": null,
   "metadata": {},
   "outputs": [],
   "source": [
    "myfile = open(\"info.txt\")\n",
    "count = 0\n",
    "\n",
    "for line in myfile:\n",
    "    count = count + 1\n",
    "print('Line Count:', count)"
   ]
  },
  {
   "cell_type": "markdown",
   "metadata": {},
   "source": [
    "Whenever you open a file, you should always *always* **always** make sure you **close the file!**. Not closing a file has several potential side effects:\n",
    "- Every open file slows down your program. If you aren't using a file anymore, not closing it will unnecessarily slow down your program\n",
    "- Computer programs have a limited amount of memory - why use any of it on a file that's no longer needed?\n",
    "- Any changes your program makes to a file may not get saved properly if you don't explicitly close it"
   ]
  },
  {
   "cell_type": "code",
   "execution_count": null,
   "metadata": {},
   "outputs": [],
   "source": [
    "myfile.close()"
   ]
  },
  {
   "cell_type": "markdown",
   "metadata": {},
   "source": [
    "Let's see another example of reading through a file"
   ]
  },
  {
   "cell_type": "code",
   "execution_count": null,
   "metadata": {},
   "outputs": [],
   "source": [
    "mynewfile = open(\"info.txt\")\n",
    "\n",
    "for line in mynewfile:\n",
    "    print(line)\n",
    "\n",
    "mynewfile.close()"
   ]
  },
  {
   "cell_type": "markdown",
   "metadata": {},
   "source": [
    "What if I wanted to get *just* my name and age, as variables, so I can do fun things with them?"
   ]
  },
  {
   "cell_type": "code",
   "execution_count": null,
   "metadata": {},
   "outputs": [],
   "source": [
    "infofile = open(\"info.txt\")\n",
    "\n",
    "firstline = infofile.readline()\n",
    "secondline = infofile.readline()\n",
    "\n",
    "f = firstline.split()\n",
    "s = secondline.split()\n",
    "\n",
    "print(f)\n",
    "print(s)\n",
    "\n",
    "infofile.close()"
   ]
  },
  {
   "cell_type": "markdown",
   "metadata": {},
   "source": [
    "So, we just took a hard right turn into Listville.\n",
    "\n",
    "## Lists! (accidentally)\n",
    "\n",
    "* you've seen lists before, remember?"
   ]
  },
  {
   "cell_type": "code",
   "execution_count": null,
   "metadata": {},
   "outputs": [],
   "source": [
    "my_friends = [\"Bob\", \"Susan\", \"Noah\", \"Amanda\"]\n",
    "\n",
    "for friend in my_friends:\n",
    "    print(\"Hello,\", friend)"
   ]
  },
  {
   "cell_type": "markdown",
   "metadata": {},
   "source": [
    "List are sequences of items that we iterate through. There are a number of built-in Python functions that operate "
   ]
  },
  {
   "cell_type": "markdown",
   "metadata": {},
   "source": [
    "## Back to files\n",
    "\n",
    "So, what if we want to write something to a file?"
   ]
  },
  {
   "cell_type": "code",
   "execution_count": null,
   "metadata": {},
   "outputs": [],
   "source": [
    "testfile = open(\"test.txt\", \"w\")\n",
    "line1 = \"Here's some test data.\"\n",
    "testfile.write(line1)\n",
    "testfile.close()"
   ]
  },
  {
   "cell_type": "markdown",
   "metadata": {},
   "source": [
    "## Dictionaries\n",
    "\n",
    "* key-value pairs\n",
    "* not indexable\n",
    "* access keys through square brackets"
   ]
  },
  {
   "cell_type": "code",
   "execution_count": null,
   "metadata": {},
   "outputs": [],
   "source": [
    "counts = {'chuck' : 1 , 'annie' : 42, 'jan': 100}\n",
    "\n",
    "print(counts['chuck'])"
   ]
  },
  {
   "cell_type": "code",
   "execution_count": null,
   "metadata": {},
   "outputs": [],
   "source": [
    "counts = {'chuck' : 1 , 'annie' : 42, 'jan': 100}\n",
    "for key in counts:\n",
    "    print(key, counts[key])"
   ]
  },
  {
   "cell_type": "code",
   "execution_count": null,
   "metadata": {},
   "outputs": [],
   "source": []
  }
 ],
 "metadata": {
  "kernelspec": {
   "display_name": "Python 3",
   "language": "python",
   "name": "python3"
  },
  "language_info": {
   "codemirror_mode": {
    "name": "ipython",
    "version": 3
   },
   "file_extension": ".py",
   "mimetype": "text/x-python",
   "name": "python",
   "nbconvert_exporter": "python",
   "pygments_lexer": "ipython3",
   "version": "3.7.4"
  }
 },
 "nbformat": 4,
 "nbformat_minor": 4
}
